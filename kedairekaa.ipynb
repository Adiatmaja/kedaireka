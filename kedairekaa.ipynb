{
  "nbformat": 4,
  "nbformat_minor": 0,
  "metadata": {
    "colab": {
      "provenance": [],
      "collapsed_sections": [],
      "authorship_tag": "ABX9TyNQbCgSJhey/bC2IM9QgIKX",
      "include_colab_link": true
    },
    "kernelspec": {
      "name": "python3",
      "display_name": "Python 3"
    },
    "language_info": {
      "name": "python"
    }
  },
  "cells": [
    {
      "cell_type": "markdown",
      "metadata": {
        "id": "view-in-github",
        "colab_type": "text"
      },
      "source": [
        "<a href=\"https://colab.research.google.com/github/Adiatmaja/kedaireka/blob/main/kedairekaa.ipynb\" target=\"_parent\"><img src=\"https://colab.research.google.com/assets/colab-badge.svg\" alt=\"Open In Colab\"/></a>"
      ]
    },
    {
      "cell_type": "markdown",
      "source": [
        "# Membaca File CSV"
      ],
      "metadata": {
        "id": "SAVNgyCWZXDr"
      }
    },
    {
      "cell_type": "code",
      "execution_count": 17,
      "metadata": {
        "id": "yf48h-fmzlQ3"
      },
      "outputs": [],
      "source": [
        "import pandas as pd"
      ]
    },
    {
      "cell_type": "code",
      "source": [
        "df = pd.read_csv(\"Data_Klaten_HST0.csv\")"
      ],
      "metadata": {
        "id": "tG7zV5Uyzrpg"
      },
      "execution_count": 18,
      "outputs": []
    },
    {
      "cell_type": "code",
      "source": [
        "data = df.drop(columns=['No', 'Kode'])\n",
        "\n",
        "data = pd.get_dummies(data)\n",
        "data"
      ],
      "metadata": {
        "id": "Iu0jMF6m0EWG",
        "colab": {
          "base_uri": "https://localhost:8080/",
          "height": 990
        },
        "outputId": "2ae4e413-4cfe-466c-9ec7-739ff9b835e6"
      },
      "execution_count": 19,
      "outputs": [
        {
          "output_type": "execute_result",
          "data": {
            "text/plain": [
              "    Carbon Total  Indeks_BI  Indeks_NDVI\n",
              "0        39.3739   169.3330       0.0198\n",
              "1        35.6145   182.3129       0.0352\n",
              "2        34.7548   182.1117       0.0114\n",
              "3        36.5848   169.6821       0.0315\n",
              "4        41.6800   167.2533       0.0319\n",
              "5        38.7875   166.8452       0.0145\n",
              "6        38.9714   174.4907       0.0084\n",
              "7        39.9606   166.0964       0.0138\n",
              "8        39.2068   179.4306       0.0143\n",
              "9        38.5028   179.9491       0.0029\n",
              "10       37.2107   167.3838       0.0180\n",
              "11       44.9112   162.0432       0.0086\n",
              "12       38.5650   178.1703       0.0117\n",
              "13       34.2780   172.2498      -0.0208\n",
              "14       33.6836   175.8115       0.0233\n",
              "15       37.7356   178.3050       0.0339\n",
              "16       38.5827   172.6219       0.0343\n",
              "17       38.2176   160.4930       0.0305\n",
              "18       36.6490   175.2189       0.0694\n",
              "19       37.2320   167.0908       0.0058\n",
              "20       40.6742   165.1050       0.0178\n",
              "21       41.7145   171.7527      -0.0029\n",
              "22       37.2268   164.2579       0.0118\n",
              "23        3.3456   168.8925      -0.0057\n",
              "24        2.2002   174.4907      -0.0170\n",
              "25       46.5256   144.9161       0.0277\n",
              "26       38.1837   159.3267       0.0372\n",
              "27       40.4125   128.3576       0.0299\n",
              "28       36.0156   143.4875       0.0307\n",
              "29       37.0263   174.9724       0.0168"
            ],
            "text/html": [
              "\n",
              "  <div id=\"df-ada51053-ef26-4b53-a02d-91dc1de6c20d\">\n",
              "    <div class=\"colab-df-container\">\n",
              "      <div>\n",
              "<style scoped>\n",
              "    .dataframe tbody tr th:only-of-type {\n",
              "        vertical-align: middle;\n",
              "    }\n",
              "\n",
              "    .dataframe tbody tr th {\n",
              "        vertical-align: top;\n",
              "    }\n",
              "\n",
              "    .dataframe thead th {\n",
              "        text-align: right;\n",
              "    }\n",
              "</style>\n",
              "<table border=\"1\" class=\"dataframe\">\n",
              "  <thead>\n",
              "    <tr style=\"text-align: right;\">\n",
              "      <th></th>\n",
              "      <th>Carbon Total</th>\n",
              "      <th>Indeks_BI</th>\n",
              "      <th>Indeks_NDVI</th>\n",
              "    </tr>\n",
              "  </thead>\n",
              "  <tbody>\n",
              "    <tr>\n",
              "      <th>0</th>\n",
              "      <td>39.3739</td>\n",
              "      <td>169.3330</td>\n",
              "      <td>0.0198</td>\n",
              "    </tr>\n",
              "    <tr>\n",
              "      <th>1</th>\n",
              "      <td>35.6145</td>\n",
              "      <td>182.3129</td>\n",
              "      <td>0.0352</td>\n",
              "    </tr>\n",
              "    <tr>\n",
              "      <th>2</th>\n",
              "      <td>34.7548</td>\n",
              "      <td>182.1117</td>\n",
              "      <td>0.0114</td>\n",
              "    </tr>\n",
              "    <tr>\n",
              "      <th>3</th>\n",
              "      <td>36.5848</td>\n",
              "      <td>169.6821</td>\n",
              "      <td>0.0315</td>\n",
              "    </tr>\n",
              "    <tr>\n",
              "      <th>4</th>\n",
              "      <td>41.6800</td>\n",
              "      <td>167.2533</td>\n",
              "      <td>0.0319</td>\n",
              "    </tr>\n",
              "    <tr>\n",
              "      <th>5</th>\n",
              "      <td>38.7875</td>\n",
              "      <td>166.8452</td>\n",
              "      <td>0.0145</td>\n",
              "    </tr>\n",
              "    <tr>\n",
              "      <th>6</th>\n",
              "      <td>38.9714</td>\n",
              "      <td>174.4907</td>\n",
              "      <td>0.0084</td>\n",
              "    </tr>\n",
              "    <tr>\n",
              "      <th>7</th>\n",
              "      <td>39.9606</td>\n",
              "      <td>166.0964</td>\n",
              "      <td>0.0138</td>\n",
              "    </tr>\n",
              "    <tr>\n",
              "      <th>8</th>\n",
              "      <td>39.2068</td>\n",
              "      <td>179.4306</td>\n",
              "      <td>0.0143</td>\n",
              "    </tr>\n",
              "    <tr>\n",
              "      <th>9</th>\n",
              "      <td>38.5028</td>\n",
              "      <td>179.9491</td>\n",
              "      <td>0.0029</td>\n",
              "    </tr>\n",
              "    <tr>\n",
              "      <th>10</th>\n",
              "      <td>37.2107</td>\n",
              "      <td>167.3838</td>\n",
              "      <td>0.0180</td>\n",
              "    </tr>\n",
              "    <tr>\n",
              "      <th>11</th>\n",
              "      <td>44.9112</td>\n",
              "      <td>162.0432</td>\n",
              "      <td>0.0086</td>\n",
              "    </tr>\n",
              "    <tr>\n",
              "      <th>12</th>\n",
              "      <td>38.5650</td>\n",
              "      <td>178.1703</td>\n",
              "      <td>0.0117</td>\n",
              "    </tr>\n",
              "    <tr>\n",
              "      <th>13</th>\n",
              "      <td>34.2780</td>\n",
              "      <td>172.2498</td>\n",
              "      <td>-0.0208</td>\n",
              "    </tr>\n",
              "    <tr>\n",
              "      <th>14</th>\n",
              "      <td>33.6836</td>\n",
              "      <td>175.8115</td>\n",
              "      <td>0.0233</td>\n",
              "    </tr>\n",
              "    <tr>\n",
              "      <th>15</th>\n",
              "      <td>37.7356</td>\n",
              "      <td>178.3050</td>\n",
              "      <td>0.0339</td>\n",
              "    </tr>\n",
              "    <tr>\n",
              "      <th>16</th>\n",
              "      <td>38.5827</td>\n",
              "      <td>172.6219</td>\n",
              "      <td>0.0343</td>\n",
              "    </tr>\n",
              "    <tr>\n",
              "      <th>17</th>\n",
              "      <td>38.2176</td>\n",
              "      <td>160.4930</td>\n",
              "      <td>0.0305</td>\n",
              "    </tr>\n",
              "    <tr>\n",
              "      <th>18</th>\n",
              "      <td>36.6490</td>\n",
              "      <td>175.2189</td>\n",
              "      <td>0.0694</td>\n",
              "    </tr>\n",
              "    <tr>\n",
              "      <th>19</th>\n",
              "      <td>37.2320</td>\n",
              "      <td>167.0908</td>\n",
              "      <td>0.0058</td>\n",
              "    </tr>\n",
              "    <tr>\n",
              "      <th>20</th>\n",
              "      <td>40.6742</td>\n",
              "      <td>165.1050</td>\n",
              "      <td>0.0178</td>\n",
              "    </tr>\n",
              "    <tr>\n",
              "      <th>21</th>\n",
              "      <td>41.7145</td>\n",
              "      <td>171.7527</td>\n",
              "      <td>-0.0029</td>\n",
              "    </tr>\n",
              "    <tr>\n",
              "      <th>22</th>\n",
              "      <td>37.2268</td>\n",
              "      <td>164.2579</td>\n",
              "      <td>0.0118</td>\n",
              "    </tr>\n",
              "    <tr>\n",
              "      <th>23</th>\n",
              "      <td>3.3456</td>\n",
              "      <td>168.8925</td>\n",
              "      <td>-0.0057</td>\n",
              "    </tr>\n",
              "    <tr>\n",
              "      <th>24</th>\n",
              "      <td>2.2002</td>\n",
              "      <td>174.4907</td>\n",
              "      <td>-0.0170</td>\n",
              "    </tr>\n",
              "    <tr>\n",
              "      <th>25</th>\n",
              "      <td>46.5256</td>\n",
              "      <td>144.9161</td>\n",
              "      <td>0.0277</td>\n",
              "    </tr>\n",
              "    <tr>\n",
              "      <th>26</th>\n",
              "      <td>38.1837</td>\n",
              "      <td>159.3267</td>\n",
              "      <td>0.0372</td>\n",
              "    </tr>\n",
              "    <tr>\n",
              "      <th>27</th>\n",
              "      <td>40.4125</td>\n",
              "      <td>128.3576</td>\n",
              "      <td>0.0299</td>\n",
              "    </tr>\n",
              "    <tr>\n",
              "      <th>28</th>\n",
              "      <td>36.0156</td>\n",
              "      <td>143.4875</td>\n",
              "      <td>0.0307</td>\n",
              "    </tr>\n",
              "    <tr>\n",
              "      <th>29</th>\n",
              "      <td>37.0263</td>\n",
              "      <td>174.9724</td>\n",
              "      <td>0.0168</td>\n",
              "    </tr>\n",
              "  </tbody>\n",
              "</table>\n",
              "</div>\n",
              "      <button class=\"colab-df-convert\" onclick=\"convertToInteractive('df-ada51053-ef26-4b53-a02d-91dc1de6c20d')\"\n",
              "              title=\"Convert this dataframe to an interactive table.\"\n",
              "              style=\"display:none;\">\n",
              "        \n",
              "  <svg xmlns=\"http://www.w3.org/2000/svg\" height=\"24px\"viewBox=\"0 0 24 24\"\n",
              "       width=\"24px\">\n",
              "    <path d=\"M0 0h24v24H0V0z\" fill=\"none\"/>\n",
              "    <path d=\"M18.56 5.44l.94 2.06.94-2.06 2.06-.94-2.06-.94-.94-2.06-.94 2.06-2.06.94zm-11 1L8.5 8.5l.94-2.06 2.06-.94-2.06-.94L8.5 2.5l-.94 2.06-2.06.94zm10 10l.94 2.06.94-2.06 2.06-.94-2.06-.94-.94-2.06-.94 2.06-2.06.94z\"/><path d=\"M17.41 7.96l-1.37-1.37c-.4-.4-.92-.59-1.43-.59-.52 0-1.04.2-1.43.59L10.3 9.45l-7.72 7.72c-.78.78-.78 2.05 0 2.83L4 21.41c.39.39.9.59 1.41.59.51 0 1.02-.2 1.41-.59l7.78-7.78 2.81-2.81c.8-.78.8-2.07 0-2.86zM5.41 20L4 18.59l7.72-7.72 1.47 1.35L5.41 20z\"/>\n",
              "  </svg>\n",
              "      </button>\n",
              "      \n",
              "  <style>\n",
              "    .colab-df-container {\n",
              "      display:flex;\n",
              "      flex-wrap:wrap;\n",
              "      gap: 12px;\n",
              "    }\n",
              "\n",
              "    .colab-df-convert {\n",
              "      background-color: #E8F0FE;\n",
              "      border: none;\n",
              "      border-radius: 50%;\n",
              "      cursor: pointer;\n",
              "      display: none;\n",
              "      fill: #1967D2;\n",
              "      height: 32px;\n",
              "      padding: 0 0 0 0;\n",
              "      width: 32px;\n",
              "    }\n",
              "\n",
              "    .colab-df-convert:hover {\n",
              "      background-color: #E2EBFA;\n",
              "      box-shadow: 0px 1px 2px rgba(60, 64, 67, 0.3), 0px 1px 3px 1px rgba(60, 64, 67, 0.15);\n",
              "      fill: #174EA6;\n",
              "    }\n",
              "\n",
              "    [theme=dark] .colab-df-convert {\n",
              "      background-color: #3B4455;\n",
              "      fill: #D2E3FC;\n",
              "    }\n",
              "\n",
              "    [theme=dark] .colab-df-convert:hover {\n",
              "      background-color: #434B5C;\n",
              "      box-shadow: 0px 1px 3px 1px rgba(0, 0, 0, 0.15);\n",
              "      filter: drop-shadow(0px 1px 2px rgba(0, 0, 0, 0.3));\n",
              "      fill: #FFFFFF;\n",
              "    }\n",
              "  </style>\n",
              "\n",
              "      <script>\n",
              "        const buttonEl =\n",
              "          document.querySelector('#df-ada51053-ef26-4b53-a02d-91dc1de6c20d button.colab-df-convert');\n",
              "        buttonEl.style.display =\n",
              "          google.colab.kernel.accessAllowed ? 'block' : 'none';\n",
              "\n",
              "        async function convertToInteractive(key) {\n",
              "          const element = document.querySelector('#df-ada51053-ef26-4b53-a02d-91dc1de6c20d');\n",
              "          const dataTable =\n",
              "            await google.colab.kernel.invokeFunction('convertToInteractive',\n",
              "                                                     [key], {});\n",
              "          if (!dataTable) return;\n",
              "\n",
              "          const docLinkHtml = 'Like what you see? Visit the ' +\n",
              "            '<a target=\"_blank\" href=https://colab.research.google.com/notebooks/data_table.ipynb>data table notebook</a>'\n",
              "            + ' to learn more about interactive tables.';\n",
              "          element.innerHTML = '';\n",
              "          dataTable['output_type'] = 'display_data';\n",
              "          await google.colab.output.renderOutput(dataTable, element);\n",
              "          const docLink = document.createElement('div');\n",
              "          docLink.innerHTML = docLinkHtml;\n",
              "          element.appendChild(docLink);\n",
              "        }\n",
              "      </script>\n",
              "    </div>\n",
              "  </div>\n",
              "  "
            ]
          },
          "metadata": {},
          "execution_count": 19
        }
      ]
    },
    {
      "cell_type": "markdown",
      "source": [
        "# Membuat Variabel Prediksi"
      ],
      "metadata": {
        "id": "tVTXfLHZZhKA"
      }
    },
    {
      "cell_type": "code",
      "source": [
        "predictions = ['Indeks_BI', 'Indeks_NDVI']\n",
        "\n",
        "X = data[predictions]\n",
        "y = data['Carbon Total']"
      ],
      "metadata": {
        "id": "gkpbcuFTO-8F"
      },
      "execution_count": 20,
      "outputs": []
    },
    {
      "cell_type": "markdown",
      "source": [
        "# Visualisasi Data"
      ],
      "metadata": {
        "id": "DTm1qBYkD6Uw"
      }
    },
    {
      "cell_type": "code",
      "source": [
        "import seaborn as sns\n",
        "\n",
        "sns.pairplot(data, x_vars=[\"Indeks_BI\", \"Indeks_NDVI\"], y_vars=[\"Carbon Total\"],height=5, aspect=.8, kind=\"reg\")"
      ],
      "metadata": {
        "colab": {
          "base_uri": "https://localhost:8080/",
          "height": 391
        },
        "id": "_MBJCpK1E7j6",
        "outputId": "3c448c22-0417-43a5-b297-af23b3058730"
      },
      "execution_count": 21,
      "outputs": [
        {
          "output_type": "execute_result",
          "data": {
            "text/plain": [
              "<seaborn.axisgrid.PairGrid at 0x7f535bcb4d90>"
            ]
          },
          "metadata": {},
          "execution_count": 21
        },
        {
          "output_type": "display_data",
          "data": {
            "text/plain": [
              "<Figure size 576x360 with 2 Axes>"
            ],
            "image/png": "[encoded data removed]"
          },
          "metadata": {
            "needs_background": "light"
          }
        }
      ]
    },
    {
      "cell_type": "markdown",
      "source": [
        "# Scaling Data"
      ],
      "metadata": {
        "id": "BmmSz-zmZdxy"
      }
    },
    {
      "cell_type": "code",
      "source": [
        "from sklearn.preprocessing import StandardScaler\n",
        "\n",
        "scaler = StandardScaler()\n",
        "scaler.fit(X)\n",
        "scaled_data = scaler.transform(X)\n",
        "scaled_data = pd.DataFrame(scaled_data, columns= X.columns)\n",
        "scaled_data.head()"
      ],
      "metadata": {
        "id": "GidqxQQNPmyu",
        "colab": {
          "base_uri": "https://localhost:8080/",
          "height": 206
        },
        "outputId": "8133e4df-d34b-4e14-d6b5-8260bdf28136"
      },
      "execution_count": 22,
      "outputs": [
        {
          "output_type": "execute_result",
          "data": {
            "text/plain": [
              "   Indeks_BI  Indeks_NDVI\n",
              "0   0.107121     0.093651\n",
              "1   1.218343     0.971276\n",
              "2   1.201118    -0.385053\n",
              "3   0.137008     0.760418\n",
              "4  -0.070924     0.783214"
            ],
            "text/html": [
              "\n",
              "  <div id=\"df-74a9b8ac-5623-44a1-88f1-7806ab2ece58\">\n",
              "    <div class=\"colab-df-container\">\n",
              "      <div>\n",
              "<style scoped>\n",
              "    .dataframe tbody tr th:only-of-type {\n",
              "        vertical-align: middle;\n",
              "    }\n",
              "\n",
              "    .dataframe tbody tr th {\n",
              "        vertical-align: top;\n",
              "    }\n",
              "\n",
              "    .dataframe thead th {\n",
              "        text-align: right;\n",
              "    }\n",
              "</style>\n",
              "<table border=\"1\" class=\"dataframe\">\n",
              "  <thead>\n",
              "    <tr style=\"text-align: right;\">\n",
              "      <th></th>\n",
              "      <th>Indeks_BI</th>\n",
              "      <th>Indeks_NDVI</th>\n",
              "    </tr>\n",
              "  </thead>\n",
              "  <tbody>\n",
              "    <tr>\n",
              "      <th>0</th>\n",
              "      <td>0.107121</td>\n",
              "      <td>0.093651</td>\n",
              "    </tr>\n",
              "    <tr>\n",
              "      <th>1</th>\n",
              "      <td>1.218343</td>\n",
              "      <td>0.971276</td>\n",
              "    </tr>\n",
              "    <tr>\n",
              "      <th>2</th>\n",
              "      <td>1.201118</td>\n",
              "      <td>-0.385053</td>\n",
              "    </tr>\n",
              "    <tr>\n",
              "      <th>3</th>\n",
              "      <td>0.137008</td>\n",
              "      <td>0.760418</td>\n",
              "    </tr>\n",
              "    <tr>\n",
              "      <th>4</th>\n",
              "      <td>-0.070924</td>\n",
              "      <td>0.783214</td>\n",
              "    </tr>\n",
              "  </tbody>\n",
              "</table>\n",
              "</div>\n",
              "      <button class=\"colab-df-convert\" onclick=\"convertToInteractive('df-74a9b8ac-5623-44a1-88f1-7806ab2ece58')\"\n",
              "              title=\"Convert this dataframe to an interactive table.\"\n",
              "              style=\"display:none;\">\n",
              "        \n",
              "  <svg xmlns=\"http://www.w3.org/2000/svg\" height=\"24px\"viewBox=\"0 0 24 24\"\n",
              "       width=\"24px\">\n",
              "    <path d=\"M0 0h24v24H0V0z\" fill=\"none\"/>\n",
              "    <path d=\"M18.56 5.44l.94 2.06.94-2.06 2.06-.94-2.06-.94-.94-2.06-.94 2.06-2.06.94zm-11 1L8.5 8.5l.94-2.06 2.06-.94-2.06-.94L8.5 2.5l-.94 2.06-2.06.94zm10 10l.94 2.06.94-2.06 2.06-.94-2.06-.94-.94-2.06-.94 2.06-2.06.94z\"/><path d=\"M17.41 7.96l-1.37-1.37c-.4-.4-.92-.59-1.43-.59-.52 0-1.04.2-1.43.59L10.3 9.45l-7.72 7.72c-.78.78-.78 2.05 0 2.83L4 21.41c.39.39.9.59 1.41.59.51 0 1.02-.2 1.41-.59l7.78-7.78 2.81-2.81c.8-.78.8-2.07 0-2.86zM5.41 20L4 18.59l7.72-7.72 1.47 1.35L5.41 20z\"/>\n",
              "  </svg>\n",
              "      </button>\n",
              "      \n",
              "  <style>\n",
              "    .colab-df-container {\n",
              "      display:flex;\n",
              "      flex-wrap:wrap;\n",
              "      gap: 12px;\n",
              "    }\n",
              "\n",
              "    .colab-df-convert {\n",
              "      background-color: #E8F0FE;\n",
              "      border: none;\n",
              "      border-radius: 50%;\n",
              "      cursor: pointer;\n",
              "      display: none;\n",
              "      fill: #1967D2;\n",
              "      height: 32px;\n",
              "      padding: 0 0 0 0;\n",
              "      width: 32px;\n",
              "    }\n",
              "\n",
              "    .colab-df-convert:hover {\n",
              "      background-color: #E2EBFA;\n",
              "      box-shadow: 0px 1px 2px rgba(60, 64, 67, 0.3), 0px 1px 3px 1px rgba(60, 64, 67, 0.15);\n",
              "      fill: #174EA6;\n",
              "    }\n",
              "\n",
              "    [theme=dark] .colab-df-convert {\n",
              "      background-color: #3B4455;\n",
              "      fill: #D2E3FC;\n",
              "    }\n",
              "\n",
              "    [theme=dark] .colab-df-convert:hover {\n",
              "      background-color: #434B5C;\n",
              "      box-shadow: 0px 1px 3px 1px rgba(0, 0, 0, 0.15);\n",
              "      filter: drop-shadow(0px 1px 2px rgba(0, 0, 0, 0.3));\n",
              "      fill: #FFFFFF;\n",
              "    }\n",
              "  </style>\n",
              "\n",
              "      <script>\n",
              "        const buttonEl =\n",
              "          document.querySelector('#df-74a9b8ac-5623-44a1-88f1-7806ab2ece58 button.colab-df-convert');\n",
              "        buttonEl.style.display =\n",
              "          google.colab.kernel.accessAllowed ? 'block' : 'none';\n",
              "\n",
              "        async function convertToInteractive(key) {\n",
              "          const element = document.querySelector('#df-74a9b8ac-5623-44a1-88f1-7806ab2ece58');\n",
              "          const dataTable =\n",
              "            await google.colab.kernel.invokeFunction('convertToInteractive',\n",
              "                                                     [key], {});\n",
              "          if (!dataTable) return;\n",
              "\n",
              "          const docLinkHtml = 'Like what you see? Visit the ' +\n",
              "            '<a target=\"_blank\" href=https://colab.research.google.com/notebooks/data_table.ipynb>data table notebook</a>'\n",
              "            + ' to learn more about interactive tables.';\n",
              "          element.innerHTML = '';\n",
              "          dataTable['output_type'] = 'display_data';\n",
              "          await google.colab.output.renderOutput(dataTable, element);\n",
              "          const docLink = document.createElement('div');\n",
              "          docLink.innerHTML = docLinkHtml;\n",
              "          element.appendChild(docLink);\n",
              "        }\n",
              "      </script>\n",
              "    </div>\n",
              "  </div>\n",
              "  "
            ]
          },
          "metadata": {},
          "execution_count": 22
        }
      ]
    },
    {
      "cell_type": "markdown",
      "source": [
        "# Train Test Split"
      ],
      "metadata": {
        "id": "kQo-JI_72zVa"
      }
    },
    {
      "cell_type": "code",
      "source": [
        "from sklearn.model_selection import train_test_split\n",
        "\n",
        "X_train, X_test, y_train, y_test = train_test_split(scaled_data, y, test_size=0.3, random_state=0)"
      ],
      "metadata": {
        "id": "kaSmVgf4MF5e"
      },
      "execution_count": 23,
      "outputs": []
    },
    {
      "cell_type": "markdown",
      "source": [
        "# Linear Regression"
      ],
      "metadata": {
        "id": "daatDWcR1xTL"
      }
    },
    {
      "cell_type": "code",
      "source": [
        "from sklearn import linear_model\n",
        "\n",
        "linreg = linear_model.LinearRegression()\n",
        "linreg.fit(X_train.values, y_train)"
      ],
      "metadata": {
        "id": "ZboX1o5N0N_y",
        "colab": {
          "base_uri": "https://localhost:8080/"
        },
        "outputId": "e3dce7e9-730d-4b5b-b7ee-b8fa007cc9f7"
      },
      "execution_count": 24,
      "outputs": [
        {
          "output_type": "execute_result",
          "data": {
            "text/plain": [
              "LinearRegression()"
            ]
          },
          "metadata": {},
          "execution_count": 24
        }
      ]
    },
    {
      "cell_type": "code",
      "source": [
        "linreg.score(X_test.values, y_test)"
      ],
      "metadata": {
        "id": "PpbOMcOF0UCu",
        "colab": {
          "base_uri": "https://localhost:8080/"
        },
        "outputId": "215f57dd-5c1a-4b56-954f-33f78621487d"
      },
      "execution_count": 25,
      "outputs": [
        {
          "output_type": "execute_result",
          "data": {
            "text/plain": [
              "0.16309449030079182"
            ]
          },
          "metadata": {},
          "execution_count": 25
        }
      ]
    },
    {
      "cell_type": "code",
      "source": [
        "print(linreg.predict([[169.3330,\t0.0198]])) # 1"
      ],
      "metadata": {
        "id": "BIihCotOOKB-",
        "colab": {
          "base_uri": "https://localhost:8080/"
        },
        "outputId": "4e0de2b8-cc50-4129-a79c-5ca19d98e74c"
      },
      "execution_count": 26,
      "outputs": [
        {
          "output_type": "stream",
          "name": "stdout",
          "text": [
            "[-327.0762212]\n"
          ]
        }
      ]
    },
    {
      "cell_type": "markdown",
      "source": [
        "# Ridge Regression"
      ],
      "metadata": {
        "id": "2d5Ygmap2CsU"
      }
    },
    {
      "cell_type": "code",
      "source": [
        "ridge = linear_model.Ridge()\n",
        "ridge.fit(X_train.values, y_train)"
      ],
      "metadata": {
        "id": "65XS4Vcj2HJn",
        "colab": {
          "base_uri": "https://localhost:8080/"
        },
        "outputId": "8a9c1df6-cb90-4762-ecd4-98b533025d99"
      },
      "execution_count": 27,
      "outputs": [
        {
          "output_type": "execute_result",
          "data": {
            "text/plain": [
              "Ridge()"
            ]
          },
          "metadata": {},
          "execution_count": 27
        }
      ]
    },
    {
      "cell_type": "code",
      "source": [
        "ridge.score(X_test.values, y_test)"
      ],
      "metadata": {
        "id": "QyM-RfjW2XS7",
        "colab": {
          "base_uri": "https://localhost:8080/"
        },
        "outputId": "3cb0efd2-3c0a-4349-f289-9095d2e56f41"
      },
      "execution_count": 28,
      "outputs": [
        {
          "output_type": "execute_result",
          "data": {
            "text/plain": [
              "0.16496264608701638"
            ]
          },
          "metadata": {},
          "execution_count": 28
        }
      ]
    },
    {
      "cell_type": "code",
      "source": [
        "print(ridge.predict([[169.3330,\t0.0198]])) # 1"
      ],
      "metadata": {
        "id": "ioLGmT6M2ZE9",
        "colab": {
          "base_uri": "https://localhost:8080/"
        },
        "outputId": "712f493f-1259-407d-fcc2-3b8bf3d2ce7d"
      },
      "execution_count": 29,
      "outputs": [
        {
          "output_type": "stream",
          "name": "stdout",
          "text": [
            "[-290.61027007]\n"
          ]
        }
      ]
    },
    {
      "cell_type": "markdown",
      "source": [
        "# Lasso Regression"
      ],
      "metadata": {
        "id": "kFnNxE1X2eHj"
      }
    },
    {
      "cell_type": "code",
      "source": [
        "lasso = linear_model.Lasso()\n",
        "lasso.fit(X_train.values, y_train)"
      ],
      "metadata": {
        "id": "7KHP4KsG2i-L",
        "colab": {
          "base_uri": "https://localhost:8080/"
        },
        "outputId": "3253f16e-e93c-428c-bfc6-bc99229ddd6d"
      },
      "execution_count": 30,
      "outputs": [
        {
          "output_type": "execute_result",
          "data": {
            "text/plain": [
              "Lasso()"
            ]
          },
          "metadata": {},
          "execution_count": 30
        }
      ]
    },
    {
      "cell_type": "code",
      "source": [
        "lasso.score(X_test.values, y_test)"
      ],
      "metadata": {
        "id": "h3mvr0dN2sVX",
        "colab": {
          "base_uri": "https://localhost:8080/"
        },
        "outputId": "6b890e6f-109c-4d9a-d44a-ddc073e00581"
      },
      "execution_count": 31,
      "outputs": [
        {
          "output_type": "execute_result",
          "data": {
            "text/plain": [
              "0.07494864396232759"
            ]
          },
          "metadata": {},
          "execution_count": 31
        }
      ]
    },
    {
      "cell_type": "code",
      "source": [
        "print(lasso.predict([[169.3330,\t0.0198]])) # 1"
      ],
      "metadata": {
        "id": "qIMdw_Ic2t68",
        "colab": {
          "base_uri": "https://localhost:8080/"
        },
        "outputId": "29c1d7e3-41d4-4fb9-ee33-54f61fdddfae"
      },
      "execution_count": 32,
      "outputs": [
        {
          "output_type": "stream",
          "name": "stdout",
          "text": [
            "[36.93936229]\n"
          ]
        }
      ]
    },
    {
      "cell_type": "markdown",
      "source": [
        "# JST"
      ],
      "metadata": {
        "id": "e_df5AFB3Abh"
      }
    },
    {
      "cell_type": "code",
      "source": [
        "import tensorflow as tf\n",
        "from tensorflow import keras\n",
        "\n",
        "model = tf.keras.Sequential([keras.layers.Dense(units=1, input_shape=[None, 1]), keras.layers.Dense(units=1)])\n",
        "\n",
        "model.compile(optimizer='sgd', loss='mean_squared_error')\n",
        "\n",
        "model.fit(X_train, y_train, epochs=20)"
      ],
      "metadata": {
        "id": "VBwF06Vh3GIu",
        "colab": {
          "base_uri": "https://localhost:8080/"
        },
        "outputId": "bda5f1a4-2846-43bb-9347-9c70fb86e7fe"
      },
      "execution_count": 33,
      "outputs": [
        {
          "output_type": "stream",
          "name": "stdout",
          "text": [
            "Epoch 1/20\n",
            "1/1 [==============================] - 1s 540ms/step - loss: 1428.6520\n",
            "Epoch 2/20\n",
            "1/1 [==============================] - 0s 7ms/step - loss: 1354.0188\n",
            "Epoch 3/20\n",
            "1/1 [==============================] - 0s 8ms/step - loss: 1252.2155\n",
            "Epoch 4/20\n",
            "1/1 [==============================] - 0s 7ms/step - loss: 1071.4846\n",
            "Epoch 5/20\n",
            "1/1 [==============================] - 0s 6ms/step - loss: 734.4592\n",
            "Epoch 6/20\n",
            "1/1 [==============================] - 0s 11ms/step - loss: 288.7012\n",
            "Epoch 7/20\n",
            "1/1 [==============================] - 0s 23ms/step - loss: 93.8750\n",
            "Epoch 8/20\n",
            "1/1 [==============================] - 0s 8ms/step - loss: 74.3530\n",
            "Epoch 9/20\n",
            "1/1 [==============================] - 0s 9ms/step - loss: 66.9536\n",
            "Epoch 10/20\n",
            "1/1 [==============================] - 0s 7ms/step - loss: 64.2417\n",
            "Epoch 11/20\n",
            "1/1 [==============================] - 0s 12ms/step - loss: 63.2716\n",
            "Epoch 12/20\n",
            "1/1 [==============================] - 0s 7ms/step - loss: 62.9312\n",
            "Epoch 13/20\n",
            "1/1 [==============================] - 0s 8ms/step - loss: 62.8132\n",
            "Epoch 14/20\n",
            "1/1 [==============================] - 0s 5ms/step - loss: 62.7726\n",
            "Epoch 15/20\n",
            "1/1 [==============================] - 0s 5ms/step - loss: 62.7587\n",
            "Epoch 16/20\n",
            "1/1 [==============================] - 0s 5ms/step - loss: 62.7540\n",
            "Epoch 17/20\n",
            "1/1 [==============================] - 0s 5ms/step - loss: 62.7523\n",
            "Epoch 18/20\n",
            "1/1 [==============================] - 0s 5ms/step - loss: 62.7518\n",
            "Epoch 19/20\n",
            "1/1 [==============================] - 0s 5ms/step - loss: 62.7516\n",
            "Epoch 20/20\n",
            "1/1 [==============================] - 0s 5ms/step - loss: 62.7515\n"
          ]
        },
        {
          "output_type": "execute_result",
          "data": {
            "text/plain": [
              "<keras.callbacks.History at 0x7f52fdffa590>"
            ]
          },
          "metadata": {},
          "execution_count": 33
        }
      ]
    }
  ]
}