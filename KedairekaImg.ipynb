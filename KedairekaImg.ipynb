{
  "nbformat": 4,
  "nbformat_minor": 0,
  "metadata": {
    "colab": {
      "provenance": [],
      "authorship_tag": "ABX9TyMxKqoZKWjQeS6s1s0k6Crp",
      "include_colab_link": true
    },
    "kernelspec": {
      "name": "python3",
      "display_name": "Python 3"
    },
    "language_info": {
      "name": "python"
    }
  },
  "cells": [
    {
      "cell_type": "markdown",
      "metadata": {
        "id": "view-in-github",
        "colab_type": "text"
      },
      "source": [
        "<a href=\"https://colab.research.google.com/github/Adiatmaja/kedaireka/blob/main/KedairekaImg.ipynb\" target=\"_parent\"><img src=\"https://colab.research.google.com/assets/colab-badge.svg\" alt=\"Open In Colab\"/></a>"
      ]
    },
    {
      "cell_type": "markdown",
      "source": [
        "# Import Libraries"
      ],
      "metadata": {
        "id": "PqbMw1mefFe7"
      }
    },
    {
      "cell_type": "code",
      "execution_count": null,
      "metadata": {
        "id": "ehAJwg6neasE"
      },
      "outputs": [],
      "source": [
        "import pandas as pd\n",
        "import cv2\n",
        "import os\n",
        "import matplotlib.pyplot as plt\n",
        "import numpy as np\n",
        "from PIL import Image"
      ]
    },
    {
      "cell_type": "markdown",
      "source": [
        "# Read CSV Data"
      ],
      "metadata": {
        "id": "DPl_jMO_fJgk"
      }
    },
    {
      "cell_type": "code",
      "source": [
        "df = pd.read_csv('DATA NITROGEN DAN INDEKS.csv')\n",
        "df.head(5)"
      ],
      "metadata": {
        "colab": {
          "base_uri": "https://localhost:8080/",
          "height": 206
        },
        "id": "prIYJOD-fJVd",
        "outputId": "933c42a1-1a68-41b9-bd9b-d11d8678ac75"
      },
      "execution_count": null,
      "outputs": [
        {
          "output_type": "execute_result",
          "data": {
            "text/plain": [
              "   No Kode_Sampe            X            Y  RED_RGB  GREEN_RGB  BLUE_RGB  \\\n",
              "0   1      KL-01  466160.8825  9158708.680      178        172       156   \n",
              "1   2      KL-02  466183.6647  9158779.891      191        188       167   \n",
              "2   3      KL-03  466213.4612  9158759.018      187        186       173   \n",
              "3   4      KL-04  466187.7879  9158720.638      176        178       154   \n",
              "4   5      KL-05  466195.0700  9158717.548      172        175       154   \n",
              "\n",
              "   RED_NIR  GREEN_NIR  NIR_NIR      NDVI     NGRDI     GNDVI        CI  \n",
              "0      169        148      184  0.042493 -0.066246  0.108434  0.066246  \n",
              "1      178        155      191  0.035230 -0.069069  0.104046  0.069069  \n",
              "2      174        151      178  0.011364 -0.070769  0.082067  0.070769  \n",
              "3      169        145      180  0.031519 -0.076433  0.107692  0.076433  \n",
              "4      162        139      171  0.027027 -0.076412  0.103226  0.076412  "
            ],
            "text/html": [
              "\n",
              "  <div id=\"df-247c5e5b-40bf-4356-88ba-954afb5dfc24\">\n",
              "    <div class=\"colab-df-container\">\n",
              "      <div>\n",
              "<style scoped>\n",
              "    .dataframe tbody tr th:only-of-type {\n",
              "        vertical-align: middle;\n",
              "    }\n",
              "\n",
              "    .dataframe tbody tr th {\n",
              "        vertical-align: top;\n",
              "    }\n",
              "\n",
              "    .dataframe thead th {\n",
              "        text-align: right;\n",
              "    }\n",
              "</style>\n",
              "<table border=\"1\" class=\"dataframe\">\n",
              "  <thead>\n",
              "    <tr style=\"text-align: right;\">\n",
              "      <th></th>\n",
              "      <th>No</th>\n",
              "      <th>Kode_Sampe</th>\n",
              "      <th>X</th>\n",
              "      <th>Y</th>\n",
              "      <th>RED_RGB</th>\n",
              "      <th>GREEN_RGB</th>\n",
              "      <th>BLUE_RGB</th>\n",
              "      <th>RED_NIR</th>\n",
              "      <th>GREEN_NIR</th>\n",
              "      <th>NIR_NIR</th>\n",
              "      <th>NDVI</th>\n",
              "      <th>NGRDI</th>\n",
              "      <th>GNDVI</th>\n",
              "      <th>CI</th>\n",
              "    </tr>\n",
              "  </thead>\n",
              "  <tbody>\n",
              "    <tr>\n",
              "      <th>0</th>\n",
              "      <td>1</td>\n",
              "      <td>KL-01</td>\n",
              "      <td>466160.8825</td>\n",
              "      <td>9158708.680</td>\n",
              "      <td>178</td>\n",
              "      <td>172</td>\n",
              "      <td>156</td>\n",
              "      <td>169</td>\n",
              "      <td>148</td>\n",
              "      <td>184</td>\n",
              "      <td>0.042493</td>\n",
              "      <td>-0.066246</td>\n",
              "      <td>0.108434</td>\n",
              "      <td>0.066246</td>\n",
              "    </tr>\n",
              "    <tr>\n",
              "      <th>1</th>\n",
              "      <td>2</td>\n",
              "      <td>KL-02</td>\n",
              "      <td>466183.6647</td>\n",
              "      <td>9158779.891</td>\n",
              "      <td>191</td>\n",
              "      <td>188</td>\n",
              "      <td>167</td>\n",
              "      <td>178</td>\n",
              "      <td>155</td>\n",
              "      <td>191</td>\n",
              "      <td>0.035230</td>\n",
              "      <td>-0.069069</td>\n",
              "      <td>0.104046</td>\n",
              "      <td>0.069069</td>\n",
              "    </tr>\n",
              "    <tr>\n",
              "      <th>2</th>\n",
              "      <td>3</td>\n",
              "      <td>KL-03</td>\n",
              "      <td>466213.4612</td>\n",
              "      <td>9158759.018</td>\n",
              "      <td>187</td>\n",
              "      <td>186</td>\n",
              "      <td>173</td>\n",
              "      <td>174</td>\n",
              "      <td>151</td>\n",
              "      <td>178</td>\n",
              "      <td>0.011364</td>\n",
              "      <td>-0.070769</td>\n",
              "      <td>0.082067</td>\n",
              "      <td>0.070769</td>\n",
              "    </tr>\n",
              "    <tr>\n",
              "      <th>3</th>\n",
              "      <td>4</td>\n",
              "      <td>KL-04</td>\n",
              "      <td>466187.7879</td>\n",
              "      <td>9158720.638</td>\n",
              "      <td>176</td>\n",
              "      <td>178</td>\n",
              "      <td>154</td>\n",
              "      <td>169</td>\n",
              "      <td>145</td>\n",
              "      <td>180</td>\n",
              "      <td>0.031519</td>\n",
              "      <td>-0.076433</td>\n",
              "      <td>0.107692</td>\n",
              "      <td>0.076433</td>\n",
              "    </tr>\n",
              "    <tr>\n",
              "      <th>4</th>\n",
              "      <td>5</td>\n",
              "      <td>KL-05</td>\n",
              "      <td>466195.0700</td>\n",
              "      <td>9158717.548</td>\n",
              "      <td>172</td>\n",
              "      <td>175</td>\n",
              "      <td>154</td>\n",
              "      <td>162</td>\n",
              "      <td>139</td>\n",
              "      <td>171</td>\n",
              "      <td>0.027027</td>\n",
              "      <td>-0.076412</td>\n",
              "      <td>0.103226</td>\n",
              "      <td>0.076412</td>\n",
              "    </tr>\n",
              "  </tbody>\n",
              "</table>\n",
              "</div>\n",
              "      <button class=\"colab-df-convert\" onclick=\"convertToInteractive('df-247c5e5b-40bf-4356-88ba-954afb5dfc24')\"\n",
              "              title=\"Convert this dataframe to an interactive table.\"\n",
              "              style=\"display:none;\">\n",
              "        \n",
              "  <svg xmlns=\"http://www.w3.org/2000/svg\" height=\"24px\"viewBox=\"0 0 24 24\"\n",
              "       width=\"24px\">\n",
              "    <path d=\"M0 0h24v24H0V0z\" fill=\"none\"/>\n",
              "    <path d=\"M18.56 5.44l.94 2.06.94-2.06 2.06-.94-2.06-.94-.94-2.06-.94 2.06-2.06.94zm-11 1L8.5 8.5l.94-2.06 2.06-.94-2.06-.94L8.5 2.5l-.94 2.06-2.06.94zm10 10l.94 2.06.94-2.06 2.06-.94-2.06-.94-.94-2.06-.94 2.06-2.06.94z\"/><path d=\"M17.41 7.96l-1.37-1.37c-.4-.4-.92-.59-1.43-.59-.52 0-1.04.2-1.43.59L10.3 9.45l-7.72 7.72c-.78.78-.78 2.05 0 2.83L4 21.41c.39.39.9.59 1.41.59.51 0 1.02-.2 1.41-.59l7.78-7.78 2.81-2.81c.8-.78.8-2.07 0-2.86zM5.41 20L4 18.59l7.72-7.72 1.47 1.35L5.41 20z\"/>\n",
              "  </svg>\n",
              "      </button>\n",
              "      \n",
              "  <style>\n",
              "    .colab-df-container {\n",
              "      display:flex;\n",
              "      flex-wrap:wrap;\n",
              "      gap: 12px;\n",
              "    }\n",
              "\n",
              "    .colab-df-convert {\n",
              "      background-color: #E8F0FE;\n",
              "      border: none;\n",
              "      border-radius: 50%;\n",
              "      cursor: pointer;\n",
              "      display: none;\n",
              "      fill: #1967D2;\n",
              "      height: 32px;\n",
              "      padding: 0 0 0 0;\n",
              "      width: 32px;\n",
              "    }\n",
              "\n",
              "    .colab-df-convert:hover {\n",
              "      background-color: #E2EBFA;\n",
              "      box-shadow: 0px 1px 2px rgba(60, 64, 67, 0.3), 0px 1px 3px 1px rgba(60, 64, 67, 0.15);\n",
              "      fill: #174EA6;\n",
              "    }\n",
              "\n",
              "    [theme=dark] .colab-df-convert {\n",
              "      background-color: #3B4455;\n",
              "      fill: #D2E3FC;\n",
              "    }\n",
              "\n",
              "    [theme=dark] .colab-df-convert:hover {\n",
              "      background-color: #434B5C;\n",
              "      box-shadow: 0px 1px 3px 1px rgba(0, 0, 0, 0.15);\n",
              "      filter: drop-shadow(0px 1px 2px rgba(0, 0, 0, 0.3));\n",
              "      fill: #FFFFFF;\n",
              "    }\n",
              "  </style>\n",
              "\n",
              "      <script>\n",
              "        const buttonEl =\n",
              "          document.querySelector('#df-247c5e5b-40bf-4356-88ba-954afb5dfc24 button.colab-df-convert');\n",
              "        buttonEl.style.display =\n",
              "          google.colab.kernel.accessAllowed ? 'block' : 'none';\n",
              "\n",
              "        async function convertToInteractive(key) {\n",
              "          const element = document.querySelector('#df-247c5e5b-40bf-4356-88ba-954afb5dfc24');\n",
              "          const dataTable =\n",
              "            await google.colab.kernel.invokeFunction('convertToInteractive',\n",
              "                                                     [key], {});\n",
              "          if (!dataTable) return;\n",
              "\n",
              "          const docLinkHtml = 'Like what you see? Visit the ' +\n",
              "            '<a target=\"_blank\" href=https://colab.research.google.com/notebooks/data_table.ipynb>data table notebook</a>'\n",
              "            + ' to learn more about interactive tables.';\n",
              "          element.innerHTML = '';\n",
              "          dataTable['output_type'] = 'display_data';\n",
              "          await google.colab.output.renderOutput(dataTable, element);\n",
              "          const docLink = document.createElement('div');\n",
              "          docLink.innerHTML = docLinkHtml;\n",
              "          element.appendChild(docLink);\n",
              "        }\n",
              "      </script>\n",
              "    </div>\n",
              "  </div>\n",
              "  "
            ]
          },
          "metadata": {},
          "execution_count": 6
        }
      ]
    },
    {
      "cell_type": "markdown",
      "source": [
        "# Read Image Data"
      ],
      "metadata": {
        "id": "GL4EhqdOlYNU"
      }
    },
    {
      "cell_type": "code",
      "source": [
        "path = r'/content/gambar/'\n",
        "\n",
        "plt.figure(figsize=(8, 8))\n",
        "\n",
        "count = 0\n",
        "for i in os.listdir(path):\n",
        "  img = cv2.imread(path + i) \n",
        "  count += 1\n",
        "  plt.subplot(3, 10, count)\n",
        "  img = cv2.getRectSubPix(img, (32, 32), (0, 0))\n",
        "  plt.imshow(img)\n",
        "  print(img.shape)\n",
        "\n",
        "  #down_sampling\n",
        "  #window\n",
        "  #for untuk ekstra sesuai besaran window\n",
        "  # average\n",
        "  \n",
        "  # modus\n",
        "\n",
        "  #LBP\n",
        "\n",
        "\n",
        "  #img dengan ukuran setelah di prosess downsampling\n",
        "\n",
        "\n",
        "  \n",
        "  #R - C1\n",
        "  cRed = img[:,:,1]\n",
        "  #G - C0\n",
        "  cGreen = i[:,:,0]\n",
        "  #NIR - C20\n",
        "  cNIR = i[:,:,2]\n",
        "  \n",
        "  #convert 32x32 image to ndvi_array 32x32\n",
        "  ndvi = (cNIR - cRed)/(cNIR + cRed)\n",
        "\n",
        "  #conver 32x32 image to ngrdi\n",
        "  ngrdi = \n",
        "\n",
        "  #convert 32x32 image to gndvi\n",
        "\n",
        "\n",
        "  #convert 32x32 image to ci\n",
        "\n",
        "\n",
        "plt.show()"
      ],
      "metadata": {
        "colab": {
          "base_uri": "https://localhost:8080/",
          "height": 325
        },
        "id": "wnVAk8HIlXpT",
        "outputId": "f0f324a2-c106-430c-e745-5597a39d72f0"
      },
      "execution_count": null,
      "outputs": [
        {
          "output_type": "stream",
          "name": "stdout",
          "text": [
            "(32, 32, 3)\n"
          ]
        },
        {
          "output_type": "error",
          "ename": "TypeError",
          "evalue": "ignored",
          "traceback": [
            "\u001b[0;31m---------------------------------------------------------------------------\u001b[0m",
            "\u001b[0;31mTypeError\u001b[0m                                 Traceback (most recent call last)",
            "\u001b[0;32m<ipython-input-22-8791fb4598a9>\u001b[0m in \u001b[0;36m<module>\u001b[0;34m\u001b[0m\n\u001b[1;32m     21\u001b[0m   \u001b[0mcRed\u001b[0m \u001b[0;34m=\u001b[0m \u001b[0mimg\u001b[0m\u001b[0;34m[\u001b[0m\u001b[0;34m:\u001b[0m\u001b[0;34m,\u001b[0m\u001b[0;34m:\u001b[0m\u001b[0;34m,\u001b[0m\u001b[0;36m1\u001b[0m\u001b[0;34m]\u001b[0m\u001b[0;34m\u001b[0m\u001b[0;34m\u001b[0m\u001b[0m\n\u001b[1;32m     22\u001b[0m   \u001b[0;31m#G - C0\u001b[0m\u001b[0;34m\u001b[0m\u001b[0;34m\u001b[0m\u001b[0;34m\u001b[0m\u001b[0m\n\u001b[0;32m---> 23\u001b[0;31m   \u001b[0mcGreen\u001b[0m \u001b[0;34m=\u001b[0m \u001b[0mi\u001b[0m\u001b[0;34m[\u001b[0m\u001b[0;34m:\u001b[0m\u001b[0;34m,\u001b[0m\u001b[0;34m:\u001b[0m\u001b[0;34m,\u001b[0m\u001b[0;36m0\u001b[0m\u001b[0;34m]\u001b[0m\u001b[0;34m\u001b[0m\u001b[0;34m\u001b[0m\u001b[0m\n\u001b[0m\u001b[1;32m     24\u001b[0m   \u001b[0;31m#NIR - C20\u001b[0m\u001b[0;34m\u001b[0m\u001b[0;34m\u001b[0m\u001b[0;34m\u001b[0m\u001b[0m\n\u001b[1;32m     25\u001b[0m   \u001b[0mcNIR\u001b[0m \u001b[0;34m=\u001b[0m \u001b[0mi\u001b[0m\u001b[0;34m[\u001b[0m\u001b[0;34m:\u001b[0m\u001b[0;34m,\u001b[0m\u001b[0;34m:\u001b[0m\u001b[0;34m,\u001b[0m\u001b[0;36m2\u001b[0m\u001b[0;34m]\u001b[0m\u001b[0;34m\u001b[0m\u001b[0;34m\u001b[0m\u001b[0m\n",
            "\u001b[0;31mTypeError\u001b[0m: string indices must be integers"
          ]
        },
        {
          "output_type": "display_data",
          "data": {
            "text/plain": [
              "<Figure size 576x576 with 1 Axes>"
            ],
            "image/png": "[encoded data removed]"
          },
          "metadata": {
            "needs_background": "light"
          }
        }
      ]
    },
    {
      "cell_type": "code",
      "source": [
        "path = r'/content/gambar/'\n",
        "\n",
        "img = cv2.imread(path + \"NIR_KL_1.png\")"
      ],
      "metadata": {
        "id": "qLSmQ8Bvadh1"
      },
      "execution_count": null,
      "outputs": []
    },
    {
      "cell_type": "code",
      "source": [
        "print(img.shape)"
      ],
      "metadata": {
        "colab": {
          "base_uri": "https://localhost:8080/"
        },
        "id": "D0fm-M2aapa5",
        "outputId": "3643c874-6237-44aa-eead-d78cf925b8df"
      },
      "execution_count": null,
      "outputs": [
        {
          "output_type": "stream",
          "name": "stdout",
          "text": [
            "(53, 73, 3)\n"
          ]
        }
      ]
    },
    {
      "cell_type": "code",
      "source": [],
      "metadata": {
        "id": "UyPa0NkAbttQ"
      },
      "execution_count": null,
      "outputs": []
    }
  ]
}