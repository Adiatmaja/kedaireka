{
  "cells": [
    {
      "cell_type": "markdown",
      "metadata": {
        "id": "view-in-github",
        "colab_type": "text"
      },
      "source": [
        "<a href=\"https://colab.research.google.com/github/Adiatmaja/kedaireka/blob/main/LocalBinaryPattern.ipynb\" target=\"_parent\"><img src=\"https://colab.research.google.com/assets/colab-badge.svg\" alt=\"Open In Colab\"/></a>"
      ]
    },
    {
      "cell_type": "code",
      "execution_count": null,
      "metadata": {
        "colab": {
          "base_uri": "https://localhost:8080/",
          "height": 236
        },
        "id": "9qyysaGDMZz-",
        "outputId": "7c7eea57-a733-403d-c809-645ccff7c1fd"
      },
      "outputs": [
        {
          "ename": "FileNotFoundError",
          "evalue": "ignored",
          "output_type": "error",
          "traceback": [
            "\u001b[0;31m---------------------------------------------------------------------------\u001b[0m",
            "\u001b[0;31mFileNotFoundError\u001b[0m                         Traceback (most recent call last)",
            "\u001b[0;32m<ipython-input-7-a52ac1d29e24>\u001b[0m in \u001b[0;36m<module>\u001b[0;34m\u001b[0m\n\u001b[1;32m      2\u001b[0m \u001b[0;32mimport\u001b[0m \u001b[0mos\u001b[0m\u001b[0;34m\u001b[0m\u001b[0;34m\u001b[0m\u001b[0m\n\u001b[1;32m      3\u001b[0m \u001b[0;34m\u001b[0m\u001b[0m\n\u001b[0;32m----> 4\u001b[0;31m \u001b[0mfolder\u001b[0m \u001b[0;34m=\u001b[0m \u001b[0mos\u001b[0m\u001b[0;34m.\u001b[0m\u001b[0mlistdir\u001b[0m\u001b[0;34m(\u001b[0m\u001b[0;34m'/gambar'\u001b[0m\u001b[0;34m)\u001b[0m\u001b[0;34m\u001b[0m\u001b[0;34m\u001b[0m\u001b[0m\n\u001b[0m\u001b[1;32m      5\u001b[0m \u001b[0mfiles\u001b[0m \u001b[0;34m=\u001b[0m \u001b[0;34m[\u001b[0m\u001b[0;34m]\u001b[0m\u001b[0;34m\u001b[0m\u001b[0;34m\u001b[0m\u001b[0m\n\u001b[1;32m      6\u001b[0m \u001b[0;32mfor\u001b[0m \u001b[0mi\u001b[0m \u001b[0;32min\u001b[0m \u001b[0mfolder\u001b[0m\u001b[0;34m:\u001b[0m\u001b[0;34m\u001b[0m\u001b[0;34m\u001b[0m\u001b[0m\n",
            "\u001b[0;31mFileNotFoundError\u001b[0m: [Errno 2] No such file or directory: '/gambar'"
          ]
        }
      ],
      "source": [
        "import cv2\n",
        "import os\n",
        "\n",
        "folder = os.listdir('gambar')\n",
        "files = []\n",
        "for i in folder:\n",
        "  image = cv2.imread(i)\n",
        "  files.append(image)\n",
        "  image"
      ]
    },
    {
      "cell_type": "code",
      "execution_count": null,
      "metadata": {
        "colab": {
          "base_uri": "https://localhost:8080/",
          "height": 235
        },
        "id": "Pcow6_QbOX1w",
        "outputId": "7c76af6e-747a-45e1-f86b-894f49d0cbad"
      },
      "outputs": [
        {
          "ename": "AttributeError",
          "evalue": "ignored",
          "output_type": "error",
          "traceback": [
            "\u001b[0;31m---------------------------------------------------------------------------\u001b[0m",
            "\u001b[0;31mAttributeError\u001b[0m                            Traceback (most recent call last)",
            "\u001b[0;32m<ipython-input-7-20afd6f6ef45>\u001b[0m in \u001b[0;36m<module>\u001b[0;34m\u001b[0m\n\u001b[1;32m     70\u001b[0m \u001b[0mimg_bgr\u001b[0m \u001b[0;34m=\u001b[0m \u001b[0mcv2\u001b[0m\u001b[0;34m.\u001b[0m\u001b[0mimread\u001b[0m\u001b[0;34m(\u001b[0m\u001b[0mpath\u001b[0m\u001b[0;34m,\u001b[0m \u001b[0;36m1\u001b[0m\u001b[0;34m)\u001b[0m\u001b[0;34m\u001b[0m\u001b[0;34m\u001b[0m\u001b[0m\n\u001b[1;32m     71\u001b[0m \u001b[0;34m\u001b[0m\u001b[0m\n\u001b[0;32m---> 72\u001b[0;31m \u001b[0mheight\u001b[0m\u001b[0;34m,\u001b[0m \u001b[0mwidth\u001b[0m\u001b[0;34m,\u001b[0m \u001b[0m_\u001b[0m \u001b[0;34m=\u001b[0m \u001b[0mimg_bgr\u001b[0m\u001b[0;34m.\u001b[0m\u001b[0mshape\u001b[0m\u001b[0;34m\u001b[0m\u001b[0;34m\u001b[0m\u001b[0m\n\u001b[0m\u001b[1;32m     73\u001b[0m \u001b[0;34m\u001b[0m\u001b[0m\n\u001b[1;32m     74\u001b[0m \u001b[0;31m# We need to convert RGB image\u001b[0m\u001b[0;34m\u001b[0m\u001b[0;34m\u001b[0m\u001b[0;34m\u001b[0m\u001b[0m\n",
            "\u001b[0;31mAttributeError\u001b[0m: 'NoneType' object has no attribute 'shape'"
          ]
        }
      ],
      "source": [
        "import cv2\n",
        "import numpy as np\n",
        "from matplotlib import pyplot as plt\n",
        "   \n",
        "      \n",
        "def get_pixel(img, center, x, y):\n",
        "      \n",
        "    new_value = 0\n",
        "      \n",
        "    try:\n",
        "        # If local neighbourhood pixel \n",
        "        # value is greater than or equal\n",
        "        # to center pixel values then \n",
        "        # set it to 1\n",
        "        if img[x][y] >= center:\n",
        "            new_value = 1\n",
        "              \n",
        "    except:\n",
        "        # Exception is required when \n",
        "        # neighbourhood value of a center\n",
        "        # pixel value is null i.e. values\n",
        "        # present at boundaries.\n",
        "        pass\n",
        "      \n",
        "    return new_value\n",
        "   \n",
        "# Function for calculating LBP\n",
        "def lbp_calculated_pixel(img, x, y):\n",
        "   \n",
        "    center = img[x][y]\n",
        "   \n",
        "    val_ar = []\n",
        "      \n",
        "    # top_left\n",
        "    val_ar.append(get_pixel(img, center, x-1, y-1))\n",
        "      \n",
        "    # top\n",
        "    val_ar.append(get_pixel(img, center, x-1, y))\n",
        "      \n",
        "    # top_right\n",
        "    val_ar.append(get_pixel(img, center, x-1, y + 1))\n",
        "      \n",
        "    # right\n",
        "    val_ar.append(get_pixel(img, center, x, y + 1))\n",
        "      \n",
        "    # bottom_right\n",
        "    val_ar.append(get_pixel(img, center, x + 1, y + 1))\n",
        "      \n",
        "    # bottom\n",
        "    val_ar.append(get_pixel(img, center, x + 1, y))\n",
        "      \n",
        "    # bottom_left\n",
        "    val_ar.append(get_pixel(img, center, x + 1, y-1))\n",
        "      \n",
        "    # left\n",
        "    val_ar.append(get_pixel(img, center, x, y-1))\n",
        "       \n",
        "    # Now, we need to convert binary\n",
        "    # values to decimal\n",
        "    power_val = [1, 2, 4, 8, 16, 32, 64, 128]\n",
        "   \n",
        "    val = 0\n",
        "      \n",
        "    for i in range(len(val_ar)):\n",
        "        val += val_ar[i] * power_val[i]\n",
        "          \n",
        "    return val\n",
        "   \n",
        "path = 'gambarrrr.png'\n",
        "img_bgr = cv2.imread(path, 1)\n",
        "   \n",
        "height, width, _ = img_bgr.shape\n",
        "   \n",
        "# We need to convert RGB image \n",
        "# into gray one because gray \n",
        "# image has one channel only.\n",
        "img_gray = cv2.cvtColor(img_bgr,\n",
        "                        cv2.COLOR_BGR2GRAY)\n",
        "   \n",
        "# Create a numpy array as \n",
        "# the same height and width \n",
        "# of RGB image\n",
        "img_lbp = np.zeros((height, width),\n",
        "                   np.uint8)\n",
        "   \n",
        "for i in range(0, height):\n",
        "    for j in range(0, width):\n",
        "        img_lbp[i, j] = lbp_calculated_pixel(img_gray, i, j)\n",
        "  \n",
        "plt.imshow(img_bgr)\n",
        "plt.show()\n",
        "   \n",
        "plt.imshow(img_lbp, cmap =\"gray\")\n",
        "plt.show()\n",
        "   \n",
        "print(\"LBP Program is finished\")"
      ]
    },
    {
      "cell_type": "code",
      "execution_count": null,
      "metadata": {
        "colab": {
          "background_save": true,
          "base_uri": "https://localhost:8080/"
        },
        "id": "cqojcdJzV97R",
        "outputId": "d87162dd-c8e1-48de-ae9c-3968fd8823ba"
      },
      "outputs": [
        {
          "name": "stdout",
          "output_type": "stream",
          "text": [
            "gambar/gambar_6.png\n",
            "gambar/gambar_2.png\n",
            "gambar/gambar_1.png\n",
            "gambar/gambar_4.png\n",
            "gambar/gambar_5.png\n",
            "gambar/gambar_3.png\n",
            "gambar/gambar_6.png\n",
            "gambar/gambar_2.png\n",
            "gambar/gambar_1.png\n",
            "gambar/gambar_4.png\n",
            "gambar/gambar_5.png\n",
            "gambar/gambar_3.png\n"
          ]
        }
      ],
      "source": [
        "# import required module\n",
        "import glob\n",
        "import cv2\n",
        " \n",
        "# get the path/directory\n",
        "folder_dir = 'gambar'\n",
        "\n",
        "i = 0\n",
        " \n",
        "# iterate over files in\n",
        "# that directory\n",
        "for images in glob.iglob(f'{folder_dir}/*'):\n",
        "   \n",
        "    # check if the image ends with png\n",
        "    if (images.endswith(\".png\")):\n",
        "      hasil1  = cv2.imread(images)\n",
        "      print(hasil1)"
      ]
    },
    {
      "cell_type": "code",
      "execution_count": null,
      "metadata": {
        "colab": {
          "base_uri": "https://localhost:8080/"
        },
        "id": "9NiJKrsAXexM",
        "outputId": "b94eddd5-4f19-48ed-9f21-b36bed203cb7"
      },
      "outputs": [
        {
          "name": "stdout",
          "output_type": "stream",
          "text": [
            "[[[ 0  0  0]\n",
            "  [ 0  0  0]\n",
            "  [ 0  0  0]\n",
            "  ...\n",
            "  [43 43 43]\n",
            "  [43 43 43]\n",
            "  [43 43 43]]\n",
            "\n",
            " [[ 0  0  0]\n",
            "  [ 0  0  0]\n",
            "  [ 0  0  0]\n",
            "  ...\n",
            "  [ 0  0  0]\n",
            "  [ 0  0  0]\n",
            "  [ 0  0  0]]\n",
            "\n",
            " [[ 0  0  0]\n",
            "  [ 0  0  0]\n",
            "  [ 0  0  0]\n",
            "  ...\n",
            "  [ 0  0  0]\n",
            "  [ 0  0  0]\n",
            "  [ 0  0  0]]\n",
            "\n",
            " ...\n",
            "\n",
            " [[53 41 30]\n",
            "  [53 41 30]\n",
            "  [53 41 30]\n",
            "  ...\n",
            "  [15 15 15]\n",
            "  [15 15 15]\n",
            "  [15 15 15]]\n",
            "\n",
            " [[53 41 30]\n",
            "  [53 41 30]\n",
            "  [53 41 30]\n",
            "  ...\n",
            "  [15 15 15]\n",
            "  [15 15 15]\n",
            "  [15 15 15]]\n",
            "\n",
            " [[53 41 30]\n",
            "  [53 41 30]\n",
            "  [53 41 30]\n",
            "  ...\n",
            "  [15 15 15]\n",
            "  [15 15 15]\n",
            "  [15 15 15]]]\n"
          ]
        }
      ],
      "source": [
        "\n",
        "import cv2\n",
        "image = cv2.imread(\"ss.png\")\n",
        "  \n",
        "# Now, the variable 'image' stores the pixel values of image\n",
        "print(image)"
      ]
    },
    {
      "cell_type": "code",
      "execution_count": null,
      "metadata": {
        "id": "HDbLnFNPWXdx"
      },
      "outputs": [],
      "source": [
        "from google.colab import drive\n",
        "drive.mount('/content/drive')"
      ]
    }
  ],
  "metadata": {
    "colab": {
      "collapsed_sections": [],
      "provenance": [],
      "include_colab_link": true
    },
    "kernelspec": {
      "display_name": "Python 3",
      "name": "python3"
    },
    "language_info": {
      "name": "python"
    }
  },
  "nbformat": 4,
  "nbformat_minor": 0
}